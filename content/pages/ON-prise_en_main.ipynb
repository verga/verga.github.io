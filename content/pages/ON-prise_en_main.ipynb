{
 "cells": [
  {
   "cell_type": "markdown",
   "metadata": {},
   "source": [
    "# Prise en main du language et de l'environnement\n",
    "\n",
    "Nous allons cette année utiliser le language python et certaines de ses librairies scientifiques pour réaliser nos\n",
    "calculs. Nous allons nous familiariser avec cet environnement de travail au cours de cette première séance.\n",
    "Vous trouverez sur AMETICE, dans la rubrique correspondant à la première séance un fichier nommé prise_en_main.py\n",
    "qui contient quelques exemples illustrant la syntaxe du language, et l’utilisation des librairies que nous allons utiliser.\n",
    "\n",
    "Vous pouvez ouvrir ce fichier à l’aide d’un éditeur de texte, puis lancer dans un terminal la commande `ipython\n",
    "-pylab` qui va lancer une session python interactive et charger les librairies dont nous avons besoin.\n",
    "\n",
    "Sur les postes de travail est également installé un environnement de développement dédié à Python qui s'appelle `kile` que vous pourrez utiliser pour créer vos programmes.\n",
    "\n",
    "Tous les supports sur lesquels vous allez travailler sont des notebooks jupyter, comme celui-ci. Ces notebooks sont des **documents computationnels** mélangeant de manière interactive du texte, des illustrations, du code et les résultats d'exécution du code. L'utilisation de cet environnement est extrêmement simple\n",
    "\n",
    "Les points importants à comprendre aujourd’hui :\n",
    "1. La réalisation d’un test sur une variable\n",
    "2. La structure d’une itération en python\n",
    "3. La création et la manipulation des éléments d’un tableau à une dimension à l’aide de la librairie numpy\n",
    "4. Le tracé d’un graphe à l’aide de la librairie matplotlib\n"
   ]
  },
  {
   "cell_type": "markdown",
   "metadata": {},
   "source": [
    "## Variables, affectation, manipulation, test\n",
    "\n",
    "Il n'est pas nécessaire de déclarer les variables en python, le type de variable est déterminé au vol, au moment de l'affectation. Affectation de 3 variables de types différents et affichage"
   ]
  },
  {
   "cell_type": "code",
   "execution_count": 1,
   "metadata": {},
   "outputs": [
    {
     "name": "stdout",
     "output_type": "stream",
     "text": [
      "12 3.2 coucou\n",
      "entier 12 réel 3.200000 réel 3.200000e+00 chaîne coucou\n"
     ]
    }
   ],
   "source": [
    "a=12\n",
    "b=3.2\n",
    "c='coucou'\n",
    "print(a,b,c)\n",
    "print('entier %d réel %f réel %e chaîne %s'%(a,b,b,c))"
   ]
  },
  {
   "cell_type": "markdown",
   "metadata": {},
   "source": [
    "La fonction `print` est très versatile, on peut afficher directement des variables, ou formatter la sortie avec du texte et le contenu formatté de variables grâce au modificateur de format `%` qui suivi d'un code explique le formatage :\n",
    "- %d affichage d'un entier\n",
    "- %f affichage d'un flottant en notation décimale\n",
    "- %s affichage d'une chaîne de caractères\n",
    "- %e affichage d'un flottant en notation scientifique\n",
    "- %.2f affichage d'un flottant en notation décimale avec 2 décimales\n",
    "- %.3e affichage d'un flottant en notation scientifique avec 3 décimales\n",
    "\n",
    "On peut bien évidemment réaliser des opérations"
   ]
  },
  {
   "cell_type": "code",
   "execution_count": 2,
   "metadata": {},
   "outputs": [
    {
     "name": "stdout",
     "output_type": "stream",
     "text": [
      "27\n",
      "25\n",
      "28\n",
      "14.0\n"
     ]
    }
   ],
   "source": [
    "print(a+15)\n",
    "a=a+13\n",
    "print(a)\n",
    "a+=3\n",
    "print(a)\n",
    "a/=2\n",
    "print(a)"
   ]
  },
  {
   "cell_type": "markdown",
   "metadata": {},
   "source": [
    "> **A noter** que le résultat de la division de deux entiers est un réel, comportement par défaut de Python3 (Python2 effectue la division entière). Pour effectuer une division entière on utilise l'opérateur `//`, et pour le reste (le modulo) `%`:"
   ]
  },
  {
   "cell_type": "code",
   "execution_count": 3,
   "metadata": {},
   "outputs": [
    {
     "name": "stdout",
     "output_type": "stream",
     "text": [
      "a/b= 1.500000, division entière de a par b = 1 reste 1\n"
     ]
    }
   ],
   "source": [
    "a=3\n",
    "b=2\n",
    "print('a/b= %f, division entière de a par b = %d reste %d'%(a/b,a//b,a%b))"
   ]
  },
  {
   "cell_type": "markdown",
   "metadata": {},
   "source": [
    "### Test\n",
    "Il est très fréquent de devoir tester le contenu d'une variable, et d'effectuer des actions en conséquences avec l'instruction `if`. Comment fonctionne un test ? C'est une opération logique qui renvoie un résultat booléen vrai/faux `True/False`"
   ]
  },
  {
   "cell_type": "code",
   "execution_count": 4,
   "metadata": {},
   "outputs": [
    {
     "data": {
      "text/plain": [
       "False"
      ]
     },
     "execution_count": 4,
     "metadata": {},
     "output_type": "execute_result"
    }
   ],
   "source": [
    "a=3\n",
    "a<2"
   ]
  },
  {
   "cell_type": "markdown",
   "metadata": {},
   "source": [
    "on peut utiliser son résultat avec l'instruction `if`"
   ]
  },
  {
   "cell_type": "code",
   "execution_count": 5,
   "metadata": {},
   "outputs": [
    {
     "name": "stdout",
     "output_type": "stream",
     "text": [
      "variable > 2\n"
     ]
    }
   ],
   "source": [
    "if(a<2):\n",
    "    print('variable < 2')\n",
    "else:\n",
    "    print('variable > 2')"
   ]
  },
  {
   "cell_type": "code",
   "execution_count": 6,
   "metadata": {},
   "outputs": [
    {
     "name": "stdout",
     "output_type": "stream",
     "text": [
      "pair superieur a 10\n"
     ]
    }
   ],
   "source": [
    "a=12\n",
    "if(a%2==0):\n",
    "    s='pair '\n",
    "    if(a<10):\n",
    "        s+='inferieur a 10'\n",
    "    else:\n",
    "        s+='superieur a 10'\n",
    "else:\n",
    "    s='impair'\n",
    "print(s)\n",
    "    "
   ]
  },
  {
   "cell_type": "markdown",
   "metadata": {},
   "source": [
    "> **A noter** l'opérateur logique égal est `==` le `=` est l'opérateur d'affectation"
   ]
  },
  {
   "cell_type": "markdown",
   "metadata": {},
   "source": [
    "## Listes et Tableaux\n",
    "\n",
    "### Listes\n",
    "Le language python possède un type liste, dont la taille varie au cours du temps"
   ]
  },
  {
   "cell_type": "code",
   "execution_count": null,
   "metadata": {},
   "outputs": [],
   "source": [
    "l=[1,2,3]\n",
    "print(l)\n",
    "l.append(4)\n",
    "print(l)\n",
    "print('valeurs',l[0],l[1],l[-1])\n",
    "l.remove(3)\n",
    "print(l)\n",
    "l.remove(3)"
   ]
  },
  {
   "cell_type": "markdown",
   "metadata": {},
   "source": [
    "Dans certaines situations on peut tenir compte du fait qu'une erreur peut se produire, et ne pas stopper l'exécution"
   ]
  },
  {
   "cell_type": "code",
   "execution_count": null,
   "metadata": {},
   "outputs": [],
   "source": [
    "try:\n",
    "    l.remove(3)\n",
    "except ValueError:\n",
    "    print('prout')"
   ]
  },
  {
   "cell_type": "markdown",
   "metadata": {},
   "source": [
    "### Tableaux\n",
    "Les listes python sont flexibles, commodes à utiliser, mais les opérations sur les listes sont lentes. Pour nos calculs nous allons utiliser un module (une librairie), `numpy`, qui définit un type de tableaux performants, et une multitude de fonctions pour les manipuler. Importons la librairie, en lui donnant le nom `np`, "
   ]
  },
  {
   "cell_type": "code",
   "execution_count": null,
   "metadata": {},
   "outputs": [],
   "source": [
    "import numpy as np"
   ]
  },
  {
   "cell_type": "markdown",
   "metadata": {},
   "source": [
    "On peut créer des tableaux de dimensions variées iitialisés à 0 ou 1"
   ]
  },
  {
   "cell_type": "code",
   "execution_count": null,
   "metadata": {},
   "outputs": [],
   "source": [
    "a=np.zeros(3)\n",
    "b=np.zeros((2,3))\n",
    "print(a)\n",
    "print(b)"
   ]
  },
  {
   "cell_type": "code",
   "execution_count": null,
   "metadata": {},
   "outputs": [],
   "source": [
    "a=np.ones((3,2))\n",
    "a"
   ]
  },
  {
   "cell_type": "markdown",
   "metadata": {},
   "source": [
    "Transformer une liste en numpy array"
   ]
  },
  {
   "cell_type": "code",
   "execution_count": null,
   "metadata": {},
   "outputs": [],
   "source": [
    "a=[1,2,3,5,8,9]\n",
    "b=np.array(a)\n",
    "b"
   ]
  },
  {
   "cell_type": "markdown",
   "metadata": {},
   "source": [
    "Les numpy array permettent de créer des séries de valeurs et d'effectuer des calculs directs sur tableaux"
   ]
  },
  {
   "cell_type": "code",
   "execution_count": null,
   "metadata": {},
   "outputs": [],
   "source": [
    "a=np.arange(10)\n",
    "a"
   ]
  },
  {
   "cell_type": "code",
   "execution_count": null,
   "metadata": {},
   "outputs": [],
   "source": [
    "a=np.arange(start=1,stop=10,step=2)\n",
    "a"
   ]
  },
  {
   "cell_type": "code",
   "execution_count": null,
   "metadata": {},
   "outputs": [],
   "source": [
    "a=np.arange(5)\n",
    "b=np.arange(start=1,stop=10,step=2)\n",
    "print(2*a)\n",
    "print(a+b)"
   ]
  },
  {
   "cell_type": "markdown",
   "metadata": {},
   "source": [
    "quelques opérations mathématiques"
   ]
  },
  {
   "cell_type": "code",
   "execution_count": null,
   "metadata": {},
   "outputs": [],
   "source": [
    "a=np.arange(10)\n",
    "#somme des valeurs\n",
    "print(a.sum(),np.sum(a))\n",
    "#moyenne\n",
    "print(a.mean(),np.mean(a))\n",
    "#racine carrée\n",
    "print(np.sqrt(a))"
   ]
  },
  {
   "cell_type": "markdown",
   "metadata": {},
   "source": [
    "## Itérations\n",
    "\n",
    "Répéter plusieurs fois le même bloc d'instructions\n",
    "\n",
    "### Nombre d'itérations fixé\n",
    "\n",
    "La boucle for, qui utilise souvent l'instruction range qui renvoie une série d'entiers consécutifs"
   ]
  },
  {
   "cell_type": "code",
   "execution_count": null,
   "metadata": {},
   "outputs": [],
   "source": [
    "for i in range(5):\n",
    "    print(i)"
   ]
  },
  {
   "cell_type": "markdown",
   "metadata": {},
   "source": [
    "On peut également réaliser des itérations sur les éléments d'une liste ou d'un tableau"
   ]
  },
  {
   "cell_type": "code",
   "execution_count": null,
   "metadata": {},
   "outputs": [],
   "source": [
    "a=[1,2,3,4]\n",
    "b=[4,3,2,1]\n",
    "for val in a:\n",
    "    print(val)\n",
    "#aggrégation de 2 listes\n",
    "for val1,val2 in zip(a,b):\n",
    "    print(val1,val2,val1+val2)"
   ]
  },
  {
   "cell_type": "code",
   "execution_count": null,
   "metadata": {},
   "outputs": [],
   "source": [
    "a=np.arange(5)\n",
    "b=np.arange(5,0,step=-1)\n",
    "size=len(a)\n",
    "c=np.zeros(size)\n",
    "\n",
    "for val1,val2,val3 in zip(a,b,c):\n",
    "    val3=val1+val2\n",
    "print(c)"
   ]
  },
  {
   "cell_type": "code",
   "execution_count": null,
   "metadata": {},
   "outputs": [],
   "source": [
    "for val1,val2,val3 in zip(a,b,np.arange(5)):\n",
    "    c[val3]=val1+val2\n",
    "print(c)\n",
    "    "
   ]
  },
  {
   "cell_type": "markdown",
   "metadata": {},
   "source": [
    "### Nombre d'itérations non déterminé\n",
    "\n",
    "On utilise pour cela la structure `while` qui conditionne l'exécution d'un bloc d'instructions à un test logique. **Le test est effectué avant l'exécution**."
   ]
  },
  {
   "cell_type": "code",
   "execution_count": null,
   "metadata": {},
   "outputs": [],
   "source": [
    "a=100\n",
    "while(a > 10):\n",
    "    a /= 2\n",
    "print(a)"
   ]
  },
  {
   "cell_type": "markdown",
   "metadata": {},
   "source": [
    "Si le besoin se présente d'**exécuter au moins une fois le bloc d'instructions** on peut utiiser la construction suivante"
   ]
  },
  {
   "cell_type": "code",
   "execution_count": null,
   "metadata": {},
   "outputs": [],
   "source": [
    "a=100\n",
    "while(True): #boucle infinie\n",
    "    a /= 2\n",
    "    if (a < 10):\n",
    "        break #on sort du bloc\n",
    "print(a)"
   ]
  },
  {
   "cell_type": "markdown",
   "metadata": {},
   "source": [
    "Un dernier petit exemple combinant boucle et test"
   ]
  },
  {
   "cell_type": "code",
   "execution_count": null,
   "metadata": {},
   "outputs": [],
   "source": [
    "a=np.arange(100)\n",
    "print('Multiples de 3 > 50 de 0..100')\n",
    "for val in a:\n",
    "    if(val > 50 and val%3==0):\n",
    "        print(val)\n"
   ]
  },
  {
   "cell_type": "markdown",
   "metadata": {},
   "source": [
    "**TODO Proposer quelques exos**"
   ]
  },
  {
   "cell_type": "code",
   "execution_count": null,
   "metadata": {},
   "outputs": [],
   "source": []
  }
 ],
 "metadata": {
  "kernelspec": {
   "display_name": "Python 3",
   "language": "python",
   "name": "python3"
  },
  "language_info": {
   "codemirror_mode": {
    "name": "ipython",
    "version": 3
   },
   "file_extension": ".py",
   "mimetype": "text/x-python",
   "name": "python",
   "nbconvert_exporter": "python",
   "pygments_lexer": "ipython3",
   "version": "3.8.6"
  }
 },
 "nbformat": 4,
 "nbformat_minor": 2
}
